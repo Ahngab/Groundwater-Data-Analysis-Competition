{
  "nbformat": 4,
  "nbformat_minor": 0,
  "metadata": {
    "colab": {
      "private_outputs": true,
      "provenance": []
    },
    "kernelspec": {
      "name": "python3",
      "display_name": "Python 3"
    },
    "language_info": {
      "name": "python"
    }
  },
  "cells": [
    {
      "cell_type": "code",
      "source": [
        "import pandas as pd\n",
        "\n",
        "temp = pd.read_excel(\"/content/시군구별_가뭄도데이터.csv\")\n"
      ],
      "metadata": {
        "id": "SoMjb31h3E5I"
      },
      "execution_count": null,
      "outputs": []
    },
    {
      "cell_type": "code",
      "source": [
        "temp = temp.groupby([\"Unnamed: 1\", \"Unnamed: 3\"], as_index=False)[[\"SIGUNGU_CD\"]].mean()"
      ],
      "metadata": {
        "id": "Cr39COKQ4teL"
      },
      "execution_count": null,
      "outputs": []
    },
    {
      "cell_type": "code",
      "source": [
        "temp[\"SIGUNGU_CD\"] = temp[\"2024년6월 행정구역 코드\"].astype(str) + temp[\"Unnamed: 2\"].astype(str)"
      ],
      "metadata": {
        "id": "p8I1Fnk83vn5"
      },
      "execution_count": null,
      "outputs": []
    },
    {
      "cell_type": "code",
      "source": [
        "temp[\"SIGUNGU_CD\"] = temp[\"SIGUNGU_CD\"].astype(int)"
      ],
      "metadata": {
        "id": "lPPYVR6a44VJ"
      },
      "execution_count": null,
      "outputs": []
    },
    {
      "cell_type": "code",
      "source": [
        "temp"
      ],
      "metadata": {
        "id": "pIT1Wczt5d1y"
      },
      "execution_count": null,
      "outputs": []
    },
    {
      "cell_type": "code",
      "source": [
        "temp.columns = [\"시도\", \"시군구\", \"SIGUNGU_CD\"]"
      ],
      "metadata": {
        "id": "3Hc-oeAa7Mb8"
      },
      "execution_count": null,
      "outputs": []
    },
    {
      "cell_type": "code",
      "source": [
        "temp.to_csv(\"시군구_코드.csv\")"
      ],
      "metadata": {
        "id": "d8jPyhNv7TBz"
      },
      "execution_count": null,
      "outputs": []
    },
    {
      "cell_type": "markdown",
      "source": [
        "#Total"
      ],
      "metadata": {
        "id": "8wiJiaXMKBhV"
      }
    },
    {
      "cell_type": "code",
      "source": [
        "import pandas as pd\n",
        "\n",
        "df = pd.read_csv(\"/content/시군구별_가뭄도데이터.csv\")"
      ],
      "metadata": {
        "id": "x3vfdDDUKBSu"
      },
      "execution_count": null,
      "outputs": []
    },
    {
      "cell_type": "code",
      "source": [
        "# 'Unnamed'로 시작하는 모든 열 제거\n",
        "df = df.loc[:, ~df.columns.str.startswith('Unnamed')]\n"
      ],
      "metadata": {
        "id": "YXO4gjDMKM0o"
      },
      "execution_count": null,
      "outputs": []
    },
    {
      "cell_type": "code",
      "source": [
        "df"
      ],
      "metadata": {
        "id": "EmDc7ahKnKCu"
      },
      "execution_count": null,
      "outputs": []
    },
    {
      "cell_type": "code",
      "source": [
        "feature_cols = [ '대응능력 계수(단위: 점수)', '노출도 계수(단위: 무차원)', '민감도 계수(단위: 무차원)',\n",
        "       '보조수원 계수(단위: 무차원)', '취약성(단위: 점수)']"
      ],
      "metadata": {
        "id": "e7_agP_dlAVL"
      },
      "execution_count": null,
      "outputs": []
    },
    {
      "cell_type": "markdown",
      "source": [
        "# nnPU"
      ],
      "metadata": {
        "id": "jrxFlUPHmHse"
      }
    },
    {
      "cell_type": "code",
      "source": [
        "import torch\n",
        "import torch.nn as nn\n",
        "import torch.optim as optim\n",
        "from sklearn.model_selection import train_test_split\n",
        "from sklearn.preprocessing import StandardScaler\n",
        "\n",
        "# 1. 데이터 준비\n",
        "X = df[feature_cols].values  # 사용할 feature 컬럼\n",
        "y = df[\"사업여부\"].fillna(0).values  # 1: Positive, 0: Unlabeled\n",
        "\n",
        "scaler = StandardScaler()\n",
        "X = scaler.fit_transform(X)\n",
        "\n",
        "X_train, X_val, y_train, y_val = train_test_split(X, y, test_size=0.2, stratify=y)\n",
        "\n",
        "X_train = torch.FloatTensor(X_train)\n",
        "y_train = torch.FloatTensor(y_train)\n",
        "X_val = torch.FloatTensor(X_val)\n",
        "y_val = torch.FloatTensor(y_val)"
      ],
      "metadata": {
        "id": "4GT5d7ELmJjJ"
      },
      "execution_count": null,
      "outputs": []
    },
    {
      "cell_type": "code",
      "source": [
        "class SimpleNN(nn.Module):\n",
        "    def __init__(self, input_dim):\n",
        "        super().__init__()\n",
        "        self.linear = nn.Sequential(\n",
        "            nn.Linear(input_dim, 16),\n",
        "            nn.ReLU(),\n",
        "            nn.Linear(16, 1),\n",
        "            nn.Sigmoid()\n",
        "        )\n",
        "\n",
        "    def forward(self, x):\n",
        "        return self.linear(x)\n",
        "\n",
        "def nnPU_loss(y_pred, y_true, pi=0.1, beta=0):\n",
        "    positive = y_true == 1\n",
        "    unlabeled = y_true == 0\n",
        "\n",
        "    # Positive risk\n",
        "    pos_pred = y_pred[positive]\n",
        "    pos_loss = torch.mean(-torch.log(pos_pred + 1e-8))\n",
        "\n",
        "    # Unlabeled risk\n",
        "    unl_pred = y_pred[unlabeled]\n",
        "    neg_loss = torch.mean(-torch.log(1 - unl_pred + 1e-8))\n",
        "\n",
        "    # PU risk with non-negative constraint\n",
        "    pu_loss = pi * pos_loss - pi * neg_loss\n",
        "    return torch.maximum(pu_loss, torch.tensor(beta))"
      ],
      "metadata": {
        "id": "79ycKqGLmM4V"
      },
      "execution_count": null,
      "outputs": []
    },
    {
      "cell_type": "code",
      "source": [
        "model = SimpleNN(X_train.shape[1])\n",
        "optimizer = optim.Adam(model.parameters(), lr=0.01)\n",
        "\n",
        "for epoch in range(100):\n",
        "    model.train()\n",
        "    optimizer.zero_grad()\n",
        "    y_pred = model(X_train).squeeze()\n",
        "    loss = nnPU_loss(y_pred, y_train, pi=y_train.mean().item())\n",
        "    loss.backward()\n",
        "    optimizer.step()\n",
        "\n",
        "    if epoch % 10 == 0:\n",
        "        print(f\"Epoch {epoch}, Loss: {loss.item():.4f}\")"
      ],
      "metadata": {
        "id": "Vb7bCZHtmVig"
      },
      "execution_count": null,
      "outputs": []
    },
    {
      "cell_type": "code",
      "source": [
        "# df와 동일한 인덱스를 가진 df_val을 따로 구성했어야 함\n",
        "X_train, X_val, y_train, y_val, df_train, df_val = train_test_split(\n",
        "    X_scaled, y, df, test_size=0.2, stratify=y, random_state=42\n",
        ")\n",
        "\n",
        "# 예측\n",
        "model.eval()\n",
        "with torch.no_grad():\n",
        "    probs = model(torch.FloatTensor(X_val)).squeeze().numpy()\n",
        "\n",
        "# 결과 저장\n",
        "df_val = df_val.copy()  # 복사해서 안전하게\n",
        "df_val[\"사업확률\"] = probs\n",
        "\n",
        "# 상위 20개 보기\n",
        "top_candidates = df_val.sort_values(\"사업확률\", ascending=False).head(20)"
      ],
      "metadata": {
        "id": "xuD9Tg3jmZGJ"
      },
      "execution_count": null,
      "outputs": []
    },
    {
      "cell_type": "code",
      "source": [
        "import matplotlib.pyplot as plt\n",
        "import matplotlib.font_manager as fm\n",
        "import seaborn as sns\n",
        "\n",
        "\n",
        "from sklearn.metrics import classification_report, confusion_matrix, roc_auc_score\n",
        "import seaborn as sns\n",
        "import matplotlib.pyplot as plt\n",
        "\n",
        "# 예측 라벨 (threshold 0.5 기준)\n",
        "y_pred = (probs > 0.5).astype(int)\n",
        "\n",
        "# 혼동행렬\n",
        "cm = confusion_matrix(y_val, y_pred)\n",
        "plt.figure(figsize=(4, 3))\n",
        "sns.heatmap(cm, annot=True, fmt='d', cmap='Blues')\n",
        "plt.xlabel(\"Predicted\")\n",
        "plt.ylabel(\"Actual\")\n",
        "plt.title(\"Confusion Matrix\")\n",
        "plt.show()\n",
        "\n",
        "# 분류 리포트\n",
        "print(classification_report(y_val, y_pred))\n",
        "\n",
        "# ROC-AUC\n",
        "roc_auc = roc_auc_score(y_val, probs)\n",
        "print(f\"ROC-AUC Score: {roc_auc:.4f}\")"
      ],
      "metadata": {
        "id": "mo5b5AqImlMa"
      },
      "execution_count": null,
      "outputs": []
    },
    {
      "cell_type": "code",
      "source": [
        "sns.histplot(probs, bins=20, kde=True)\n",
        "plt.title(\"사업 확률 분포\")  # 한글도 깨지지 않음\n",
        "plt.xlabel(\"사업 확률\")\n",
        "plt.ylabel(\"건수\")\n",
        "plt.show()"
      ],
      "metadata": {
        "id": "HDmWPKNrnTF_"
      },
      "execution_count": null,
      "outputs": []
    },
    {
      "cell_type": "markdown",
      "source": [
        "# Logistic"
      ],
      "metadata": {
        "id": "SxvoNUpdJ_tb"
      }
    },
    {
      "cell_type": "code",
      "source": [
        "# 📌 1. 라이브러리 불러오기\n",
        "import pandas as pd\n",
        "import numpy as np\n",
        "import matplotlib.pyplot as plt\n",
        "import seaborn as sns\n",
        "\n",
        "from sklearn.linear_model import LogisticRegression\n",
        "from sklearn.model_selection import train_test_split\n",
        "from sklearn.metrics import classification_report, confusion_matrix, roc_auc_score\n",
        "from sklearn.preprocessing import StandardScaler\n",
        "\n",
        "\n",
        "df = merged.copy()\n",
        "\n",
        "# 📌 3. Feature, Target 설정\n",
        "feature_cols = [\n",
        "    \"대응능력 계수(단위: 점수)\",\n",
        "    \"노출도 계수(단위: 무차원)\",\n",
        "    \"민감도 계수(단위: 무차원)\",\n",
        "    \"보조수원 계수(단위: 무차원)\",\n",
        "    \"취약성(단위: 점수)\"\n",
        "]\n",
        "X = df[feature_cols]\n",
        "y = df[\"사업여부\"].fillna(0).astype(int)\n",
        "\n",
        "# 📌 4. 스케일링\n",
        "scaler = StandardScaler()\n",
        "X_scaled = scaler.fit_transform(X)\n",
        "\n",
        "# 📌 5. 훈련/검증 분리\n",
        "X_train, X_val, y_train, y_val = train_test_split(X_scaled, y, stratify=y, test_size=0.2, random_state=42)\n",
        "\n",
        "# 📌 6. 로지스틱 회귀 모델 학습\n",
        "lr = LogisticRegression(max_iter=1000, random_state=42)\n",
        "lr.fit(X_train, y_train)\n",
        "\n",
        "# 📌 7. 예측 및 평가\n",
        "y_pred = lr.predict(X_val)\n",
        "y_prob = lr.predict_proba(X_val)[:, 1]\n",
        "\n",
        "print(\"📌 ROC AUC:\", roc_auc_score(y_val, y_prob))\n",
        "print(\"📌 Classification Report:\\n\", classification_report(y_val, y_pred))\n",
        "\n",
        "# 📌 8. 혼동행렬 시각화\n",
        "plt.figure(figsize=(4, 3))\n",
        "sns.heatmap(confusion_matrix(y_val, y_pred), annot=True, fmt='d', cmap='Greens')\n",
        "plt.xlabel(\"Predicted\")\n",
        "plt.ylabel(\"Actual\")\n",
        "plt.title(\"Confusion Matrix (Logistic Regression)\")\n",
        "plt.tight_layout()\n",
        "plt.show()\n",
        "\n",
        "# 📌 9. 전체 데이터 사업 확률 예측\n",
        "df[\"사업확률\"] = lr.predict_proba(X_scaled)[:, 1]\n",
        "\n",
        "# 📌 10. 사업이 아직 안 된 곳 중 확률 높은 상위 20개 추출\n",
        "top20 = df[df[\"사업여부\"] == 0].sort_values(\"사업확률\", ascending=False)\n",
        "\n",
        "# 📌 11. 시각화\n",
        "plt.figure(figsize=(8, 6))\n",
        "sns.barplot(data=top20, y=\"시군구\", x=\"사업확률\", palette=\"crest\")\n",
        "plt.title(\"사업 유력 후보 상위 20개 지역 (로지스틱)\")\n",
        "plt.xlabel(\"사업 확률\")\n",
        "plt.ylabel(\"시군구\")\n",
        "plt.tight_layout()\n",
        "plt.show()\n",
        "\n",
        "# 📌 12. 상위 20개 출력\n",
        "top20"
      ],
      "metadata": {
        "id": "eM7iQ2RLKClZ"
      },
      "execution_count": null,
      "outputs": []
    },
    {
      "cell_type": "code",
      "source": [
        "import geopandas as gpd\n",
        "\n",
        "top20 = gpd.GeoDataFrame(top20, geometry=top20[\"geometry\"])"
      ],
      "metadata": {
        "id": "v1-4yGp9EuaN"
      },
      "execution_count": null,
      "outputs": []
    },
    {
      "cell_type": "code",
      "source": [
        "top20"
      ],
      "metadata": {
        "id": "XOG2C1uDFCw0"
      },
      "execution_count": null,
      "outputs": []
    },
    {
      "cell_type": "code",
      "source": [],
      "metadata": {
        "id": "qXqHA9GbFxjA"
      },
      "execution_count": null,
      "outputs": []
    },
    {
      "cell_type": "code",
      "source": [
        "import geopandas as gpd\n",
        "import pandas as pd\n",
        "import matplotlib.pyplot as plt\n",
        "plt.rcParams['font.family'] = 'AppleGothic'  # 맥 기본 한글 폰트\n",
        "plt.rcParams['axes.unicode_minus'] = False\n",
        "\n",
        "\n",
        "\n",
        "# 지도 시각화\n",
        "fig, ax = plt.subplots(figsize=(18, 24), facecolor='white',edgecolor='none')  # 전체 배경 검정\n",
        "\n",
        "# 배경 전체 회색 또는 흰색으로 칠하지 않음\n",
        "gdf.plot(ax=ax, color='whitesmoke', edgecolor='none', linewidth=0.3)\n",
        "\n",
        "# anomaly_score가 있는 시군구만 색칠\n",
        "top20.plot(\n",
        "    column='사업확률',\n",
        "    ax=ax,\n",
        "    edgecolor='none',   # 경계선 없음\n",
        "    cmap='YlOrBr',\n",
        "    linewidth=0,\n",
        "    legend=False,\n",
        ")\n",
        "\n",
        "# 스타일 설정\n",
        "plt.title(\"시군구별 예측 점수\", fontsize=26, color='Black')\n",
        "plt.axis('off')\n",
        "plt.show()\n"
      ],
      "metadata": {
        "id": "mj9Z-UMXFNDI"
      },
      "execution_count": null,
      "outputs": []
    },
    {
      "cell_type": "code",
      "source": [
        "sorting = top20[[\"시도\", \"시군구\", \"코드\", \"사업확률\"]]"
      ],
      "metadata": {
        "id": "verrjfjPCmxr"
      },
      "execution_count": null,
      "outputs": []
    },
    {
      "cell_type": "code",
      "source": [
        "sorting = sorting.reset_index(drop=True)"
      ],
      "metadata": {
        "id": "lIIBjf-lCyLA"
      },
      "execution_count": null,
      "outputs": []
    },
    {
      "cell_type": "code",
      "source": [
        "sorting"
      ],
      "metadata": {
        "id": "GE0JgMdbDMWl"
      },
      "execution_count": null,
      "outputs": []
    },
    {
      "cell_type": "code",
      "source": [
        "sorting.to_csv(\"ranking.csv\")"
      ],
      "metadata": {
        "id": "qZ32NaRACz-V"
      },
      "execution_count": null,
      "outputs": []
    },
    {
      "cell_type": "markdown",
      "source": [
        "#RandomForest"
      ],
      "metadata": {
        "id": "b-v_qVxrI9JP"
      }
    },
    {
      "cell_type": "code",
      "source": [
        "# 📌 1. 라이브러리 불러오기\n",
        "import pandas as pd\n",
        "import numpy as np\n",
        "import matplotlib.pyplot as plt\n",
        "import seaborn as sns\n",
        "\n",
        "from sklearn.ensemble import RandomForestClassifier\n",
        "from sklearn.model_selection import train_test_split\n",
        "from sklearn.metrics import classification_report, confusion_matrix, roc_auc_score\n",
        "from sklearn.preprocessing import StandardScaler\n",
        "\n",
        "# 📌 2. 데이터 불러오기\n",
        "df = pd.read_csv(\"/content/최종가공데이터.csv\")\n",
        "\n",
        "# 📌 3. Feature, Target 설정\n",
        "feature_cols = [\n",
        "    \"대응능력 계수(단위: 점수)\",\n",
        "    \"노출도 계수(단위: 무차원)\",\n",
        "    \"민감도 계수(단위: 무차원)\",\n",
        "    \"보조수원 계수(단위: 무차원)\",\n",
        "    \"취약성(단위: 점수)\"\n",
        "]\n",
        "X = df[feature_cols]\n",
        "y = df[\"사업여부\"].fillna(0).astype(int)  # NaN은 0 처리\n",
        "\n",
        "# 📌 4. 스케일링\n",
        "scaler = StandardScaler()\n",
        "X_scaled = scaler.fit_transform(X)\n",
        "\n",
        "# 📌 5. 훈련/검증 분리\n",
        "X_train, X_val, y_train, y_val = train_test_split(X_scaled, y, stratify=y, test_size=0.2, random_state=42)\n",
        "\n",
        "# 📌 6. 모델 학습\n",
        "rf = RandomForestClassifier(random_state=42)\n",
        "rf.fit(X_train, y_train)\n",
        "\n",
        "# 📌 7. 예측 및 평가\n",
        "y_pred = rf.predict(X_val)\n",
        "y_prob = rf.predict_proba(X_val)[:, 1]\n",
        "\n",
        "print(\"📌 ROC AUC:\", roc_auc_score(y_val, y_prob))\n",
        "print(\"📌 Classification Report:\\n\", classification_report(y_val, y_pred))\n",
        "\n",
        "# 📌 8. 혼동행렬 시각화\n",
        "plt.figure(figsize=(4, 3))\n",
        "sns.heatmap(confusion_matrix(y_val, y_pred), annot=True, fmt='d', cmap='Blues')\n",
        "plt.xlabel(\"Predicted\")\n",
        "plt.ylabel(\"Actual\")\n",
        "plt.title(\"Confusion Matrix\")\n",
        "plt.tight_layout()\n",
        "plt.show()\n",
        "\n",
        "# 📌 9. 전체 데이터 사업 확률 예측\n",
        "df[\"사업확률\"] = rf.predict_proba(X_scaled)[:, 1]\n",
        "\n",
        "# 📌 10. 사업이 아직 안 된 곳 중에서 확률 높은 상위 20개 추출\n",
        "top20 = df[df[\"사업여부\"] == 0].sort_values(\"사업확률\", ascending=False).head(20)\n",
        "\n",
        "# 📌 11. 시각화\n",
        "plt.figure(figsize=(8, 6))\n",
        "sns.barplot(data=top20, y=\"시군구\", x=\"사업확률\", palette=\"viridis\")\n",
        "plt.title(\"사업 유력 후보 상위 20개 지역\")\n",
        "plt.xlabel(\"사업 확률\")\n",
        "plt.ylabel(\"시군구\")\n",
        "plt.tight_layout()\n",
        "plt.show()\n",
        "\n",
        "# 📌 12. 상위 20개 출력\n",
        "top20[[\"시도\", \"시군구\", \"사업확률\"]]"
      ],
      "metadata": {
        "id": "DL5LPiQRI87W"
      },
      "execution_count": null,
      "outputs": []
    },
    {
      "cell_type": "markdown",
      "source": [
        "# Geo 시각화\n"
      ],
      "metadata": {
        "id": "Q26l6NDLqrxn"
      }
    },
    {
      "cell_type": "code",
      "source": [
        "import geopandas as gpd\n",
        "\n",
        "df = pd.read_csv(\"/content/시군구별_가뭄도데이터.csv\", index_col=0)\n",
        "shp_path = \"/content/BND_SIGUNGU_PG.shp\"\n",
        "gdf = gpd.read_file(shp_path)"
      ],
      "metadata": {
        "id": "YkGSbvCQK83i"
      },
      "execution_count": null,
      "outputs": []
    },
    {
      "cell_type": "code",
      "source": [
        "gdf[gdf[\"SIGUNGU_NM\"] == \"중구\"]"
      ],
      "metadata": {
        "id": "pvFT2gkZxLpC"
      },
      "execution_count": null,
      "outputs": []
    },
    {
      "cell_type": "code",
      "source": [
        "df = df[['시도', '시군구', '코드', '대응능력 계수(단위: 점수)', '노출도 계수(단위: 무차원)',\n",
        "       '민감도 계수(단위: 무차원)', '보조수원 계수(단위: 무차원)', '취약성(단위: 점수)', '사업여부']]"
      ],
      "metadata": {
        "id": "dBTYVA2N_-GZ"
      },
      "execution_count": null,
      "outputs": []
    },
    {
      "cell_type": "code",
      "source": [
        "df[\"코드\"] = df[\"코드\"].astype(str)"
      ],
      "metadata": {
        "id": "vSAa1Q-h_s3I"
      },
      "execution_count": null,
      "outputs": []
    },
    {
      "cell_type": "code",
      "source": [
        "merged = df.merge(gdf, how='left', left_on='코드', right_on='SIGUNGU_CD')\n",
        "\n",
        "\n",
        "merged"
      ],
      "metadata": {
        "id": "dpuMWktopMM2"
      },
      "execution_count": null,
      "outputs": []
    },
    {
      "cell_type": "code",
      "source": [
        "merged.to_csv(\"temp.csv\")"
      ],
      "metadata": {
        "id": "ZDF0xK99prNB"
      },
      "execution_count": null,
      "outputs": []
    },
    {
      "cell_type": "markdown",
      "source": [
        "# 데이터 가공\n"
      ],
      "metadata": {
        "id": "ag9yZMxAgrUm"
      }
    },
    {
      "cell_type": "code",
      "source": [
        "for i in data:\n",
        "    if i[0].isnumeric():\n",
        "        i.pop(0)\n",
        "\n",
        "print(data)"
      ],
      "metadata": {
        "id": "cVyXY730opze"
      },
      "execution_count": null,
      "outputs": []
    },
    {
      "cell_type": "code",
      "source": [
        "for i in data:\n",
        "    if len(i) > 7:\n",
        "        print(i)"
      ],
      "metadata": {
        "id": "Ou_ekFDaoy6a"
      },
      "execution_count": null,
      "outputs": []
    },
    {
      "cell_type": "code",
      "source": [
        "import pandas as pd\n",
        "\n",
        "# 컬럼명 지정\n",
        "columns = [\n",
        "    \"행정동명\",\n",
        "    \"대응능력 계수(단위: 점수)\", \"노출도 계수(단위: 무차원)\", \"민감도 계수(단위: 무차원)\",\n",
        "    \"보조수원 계수(단위: 무차원)\", \"취약성(단위: 점수)\", \"취약성 등급(단위: 등급)\"\n",
        "]\n",
        "\n",
        "# DataFrame으로 변환\n",
        "df = pd.DataFrame(data, columns=columns)"
      ],
      "metadata": {
        "id": "B-17AhOdsL5o"
      },
      "execution_count": null,
      "outputs": []
    },
    {
      "cell_type": "code",
      "source": [
        "df.head(100)"
      ],
      "metadata": {
        "id": "gDckTkr-tB0n"
      },
      "execution_count": null,
      "outputs": []
    },
    {
      "cell_type": "code",
      "source": [
        "df[\"취약성 등급(단위: 등급)\"].value_counts(dropna=False)"
      ],
      "metadata": {
        "id": "BRTKs2VrpSUF"
      },
      "execution_count": null,
      "outputs": []
    },
    {
      "cell_type": "code",
      "source": [
        "print(df.loc[df[\"취약성 등급(단위: 등급)\"] == None])"
      ],
      "metadata": {
        "id": "oC52EyuLpX-E"
      },
      "execution_count": null,
      "outputs": []
    },
    {
      "cell_type": "code",
      "source": [
        "import pandas as pd\n",
        "import re\n",
        "\n",
        "def split_address(addr):\n",
        "    # 세종시\n",
        "    if addr.startswith(\"세종특별자치시\"):\n",
        "        return pd.Series([\"세종특별자치시\", \"\", addr[len(\"세종특별자치시\"):]])\n",
        "\n",
        "    # 시도 추출\n",
        "    match_sido = re.match(r\"^(.*?[도시])\", addr)\n",
        "    시도 = match_sido.group(1) if match_sido else \"\"\n",
        "    나머지 = addr[len(시도):]\n",
        "\n",
        "    # 전체가 행정동 하나로 끝날 수 있는 경우: '동', '면', '읍' 으로 끝나면\n",
        "    match_dong = re.match(r\"^(.*[시군구])(.+[동읍면])$\", 나머지)\n",
        "    if match_dong:\n",
        "        시군구 = match_dong.group(1)\n",
        "        행정동 = match_dong.group(2)\n",
        "    else:\n",
        "        # 일반적인 경우 fallback\n",
        "        match_sigungu = re.match(r\"^(.*(시|군|구))\", 나머지)\n",
        "        시군구 = match_sigungu.group(1) if match_sigungu else \"\"\n",
        "        행정동 = 나머지[len(시군구):]\n",
        "\n",
        "    return pd.Series([시도, 시군구, 행정동])"
      ],
      "metadata": {
        "id": "eQQvCSDmtIwH"
      },
      "execution_count": null,
      "outputs": []
    },
    {
      "cell_type": "code",
      "source": [
        "df[[\"시도\", \"시군구\", \"행정동\"]] = df[\"행정동명\"].apply(split_address)\n",
        "\n",
        "# 결과 확인\n",
        "print(df)"
      ],
      "metadata": {
        "id": "de-SLKnGt5Eo"
      },
      "execution_count": null,
      "outputs": []
    },
    {
      "cell_type": "code",
      "source": [
        "df.head(20)"
      ],
      "metadata": {
        "id": "Fr1DHib8uCob"
      },
      "execution_count": null,
      "outputs": []
    },
    {
      "cell_type": "code",
      "source": [
        "df = df[[\"시도\", \"시군구\", \"행정동\",\n",
        "         \"대응능력 계수(단위: 점수)\", \"노출도 계수(단위: 무차원)\", \"민감도 계수(단위: 무차원)\",\n",
        "         \"보조수원 계수(단위: 무차원)\", \"취약성(단위: 점수)\", \"취약성 등급(단위: 등급)\"]]"
      ],
      "metadata": {
        "id": "AJ3I2N8ouWT6"
      },
      "execution_count": null,
      "outputs": []
    },
    {
      "cell_type": "code",
      "source": [
        "df.head(500)"
      ],
      "metadata": {
        "id": "IDd4cmI9umKX"
      },
      "execution_count": null,
      "outputs": []
    },
    {
      "cell_type": "code",
      "source": [
        "df.to_csv(\"데이터.csv\")"
      ],
      "metadata": {
        "id": "UzuN8qYhu19z"
      },
      "execution_count": null,
      "outputs": []
    },
    {
      "cell_type": "code",
      "source": [
        "cols_to_float = [\n",
        "    \"대응능력 계수(단위: 점수)\",\n",
        "    \"노출도 계수(단위: 무차원)\",\n",
        "    \"민감도 계수(단위: 무차원)\",\n",
        "    \"보조수원 계수(단위: 무차원)\",\n",
        "    \"취약성(단위: 점수)\"\n",
        "]\n",
        "for col in cols_to_float:\n",
        "    df.loc[:, col] = pd.to_numeric(df[col], errors=\"coerce\")"
      ],
      "metadata": {
        "id": "vn4UQ9kdxbVV"
      },
      "execution_count": null,
      "outputs": []
    },
    {
      "cell_type": "code",
      "source": [
        "df"
      ],
      "metadata": {
        "id": "EN6lkl39xeef"
      },
      "execution_count": null,
      "outputs": []
    },
    {
      "cell_type": "code",
      "source": [
        "# 조건: 시군구가 '시구'로 끝나는 경우\n",
        "mask = df['시군구'].str.endswith('강남구압구')\n",
        "\n",
        "# 시군구에서 '구'를 떼고, 행정동 앞에 붙이기\n",
        "df.loc[mask, '행정동'] = '압구' + df.loc[mask, '행정동']\n",
        "df.loc[mask, '시군구'] = df.loc[mask, '시군구'].str[:-2]  # '시구' -> '시'"
      ],
      "metadata": {
        "id": "XGEpUi_N030g"
      },
      "execution_count": null,
      "outputs": []
    },
    {
      "cell_type": "code",
      "source": [
        "df.loc[df[\"시군구\"] == \"강남구\"]"
      ],
      "metadata": {
        "id": "2WxbEY7Mw5N7"
      },
      "execution_count": null,
      "outputs": []
    },
    {
      "cell_type": "code",
      "source": [
        "# 조건: 시군구가 '시구'로 끝나는 경우\n",
        "mask = df['시군구'].str.endswith('남동구구')\n",
        "\n",
        "# 시군구에서 '구'를 떼고, 행정동 앞에 붙이기\n",
        "df.loc[mask, '행정동'] = '구' + df.loc[mask, '행정동']\n",
        "df.loc[mask, '시군구'] = df.loc[mask, '시군구'].str[:-1]  # '시구' -> '시'"
      ],
      "metadata": {
        "id": "WfFtcerg1B5j"
      },
      "execution_count": null,
      "outputs": []
    },
    {
      "cell_type": "code",
      "source": [
        "df.loc[df[\"시군구\"] == \"남동구\"]"
      ],
      "metadata": {
        "id": "jdwq0pmbxTh2"
      },
      "execution_count": null,
      "outputs": []
    },
    {
      "cell_type": "code",
      "source": [
        "df = df.groupby([\"시도\", \"시군구\"])[[\"대응능력 계수(단위: 점수)\", \"노출도 계수(단위: 무차원)\", \"민감도 계수(단위: 무차원)\",\"보조수원 계수(단위: 무차원)\", \"취약성(단위: 점수)\"]].mean().reset_index()"
      ],
      "metadata": {
        "id": "7YyNGCh00IhC"
      },
      "execution_count": null,
      "outputs": []
    },
    {
      "cell_type": "code",
      "source": [
        "df"
      ],
      "metadata": {
        "id": "-CfRLKbB0N0q"
      },
      "execution_count": null,
      "outputs": []
    },
    {
      "cell_type": "code",
      "source": [
        "df.to_csv(\"제주도.csv\")"
      ],
      "metadata": {
        "id": "0a75HEue1NQM"
      },
      "execution_count": null,
      "outputs": []
    },
    {
      "cell_type": "code",
      "source": [
        "seoul = df.iloc[:425,:]\n",
        "incheon = df.iloc[425:580,:]\n",
        "gyeonggi = df.iloc[580:,:]"
      ],
      "metadata": {
        "id": "xTBPGe4fvkJO"
      },
      "execution_count": null,
      "outputs": []
    },
    {
      "cell_type": "code",
      "source": [
        "seoul = seoul.groupby([\"시도\", \"시군구\"])[[\"대응능력 계수(단위: 점수)\", \"노출도 계수(단위: 무차원)\", \"민감도 계수(단위: 무차원)\",\"보조수원 계수(단위: 무차원)\", \"취약성(단위: 점수)\"]].mean().reset_index()"
      ],
      "metadata": {
        "id": "Znju2imrvyhw"
      },
      "execution_count": null,
      "outputs": []
    },
    {
      "cell_type": "code",
      "source": [
        "seoul"
      ],
      "metadata": {
        "id": "pMiZKYQdw4k7"
      },
      "execution_count": null,
      "outputs": []
    },
    {
      "cell_type": "code",
      "source": [
        "incheon = incheon.groupby([\"시도\", \"시군구\"])[[\"대응능력 계수(단위: 점수)\", \"노출도 계수(단위: 무차원)\", \"민감도 계수(단위: 무차원)\",\"보조수원 계수(단위: 무차원)\", \"취약성(단위: 점수)\"]].mean().reset_index()"
      ],
      "metadata": {
        "id": "XKcoLKiNx2Gt"
      },
      "execution_count": null,
      "outputs": []
    },
    {
      "cell_type": "code",
      "source": [
        "incheon"
      ],
      "metadata": {
        "id": "1VBUQSu6yTft"
      },
      "execution_count": null,
      "outputs": []
    },
    {
      "cell_type": "code",
      "source": [
        "gyeongi = gyeonggi.groupby([\"시도\", \"시군구\"])[[\"대응능력 계수(단위: 점수)\", \"노출도 계수(단위: 무차원)\", \"민감도 계수(단위: 무차원)\",\"보조수원 계수(단위: 무차원)\", \"취약성(단위: 점수)\"]].mean().reset_index()"
      ],
      "metadata": {
        "id": "blpDk5PXyUlz"
      },
      "execution_count": null,
      "outputs": []
    },
    {
      "cell_type": "code",
      "source": [
        "# 조건: 시군구가 '시구'로 끝나는 경우\n",
        "mask = df['시군구'].str.endswith('포천시군')\n",
        "\n",
        "# 시군구에서 '구'를 떼고, 행정동 앞에 붙이기\n",
        "df.loc[mask, '행정동'] = '군' + df.loc[mask, '행정동']\n",
        "df.loc[mask, '시군구'] = df.loc[mask, '시군구'].str[:-1]  # '시구' -> '시'"
      ],
      "metadata": {
        "id": "HNlKAu_0ygL7"
      },
      "execution_count": null,
      "outputs": []
    },
    {
      "cell_type": "code",
      "source": [
        "gyeongi"
      ],
      "metadata": {
        "id": "eniuGcpN1JbF"
      },
      "execution_count": null,
      "outputs": []
    },
    {
      "cell_type": "code",
      "source": [
        "gyeongbuk = gyeongbuk.groupby([\"시도\", \"시군구\"])[[\"대응능력 계수(단위: 점수)\", \"노출도 계수(단위: 무차원)\", \"민감도 계수(단위: 무차원)\",\"보조수원 계수(단위: 무차원)\", \"취약성(단위: 점수)\"]].mean().reset_index()"
      ],
      "metadata": {
        "id": "PNNS8Vhf1KYZ"
      },
      "execution_count": null,
      "outputs": []
    },
    {
      "cell_type": "code",
      "source": [
        "gyeongbuk"
      ],
      "metadata": {
        "id": "cD7cfp4J1Ttd"
      },
      "execution_count": null,
      "outputs": []
    },
    {
      "cell_type": "code",
      "source": [
        "gyeongnam = gyeongnam.groupby([\"시도\", \"시군구\"])[[\"대응능력 계수(단위: 점수)\", \"노출도 계수(단위: 무차원)\", \"민감도 계수(단위: 무차원)\",\"보조수원 계수(단위: 무차원)\", \"취약성(단위: 점수)\"]].mean().reset_index()"
      ],
      "metadata": {
        "id": "PK3PbxRNsqM8"
      },
      "execution_count": null,
      "outputs": []
    },
    {
      "cell_type": "code",
      "source": [
        "gyeongnam"
      ],
      "metadata": {
        "id": "3g1VlWgrswU8"
      },
      "execution_count": null,
      "outputs": []
    },
    {
      "cell_type": "code",
      "source": [
        "df_all = pd.concat([seoul, incheon, gyeongi], axis=0, ignore_index=True)"
      ],
      "metadata": {
        "id": "Bioa8tyU1YZM"
      },
      "execution_count": null,
      "outputs": []
    },
    {
      "cell_type": "code",
      "source": [
        "df_all"
      ],
      "metadata": {
        "id": "agyDW-5f1kEY"
      },
      "execution_count": null,
      "outputs": []
    },
    {
      "cell_type": "code",
      "source": [
        "df_all = pd.concat([seoul, incheon, gyeongi], axis=0, ignore_index=True)"
      ],
      "metadata": {
        "id": "WyKW8-_CBvvD"
      },
      "execution_count": null,
      "outputs": []
    },
    {
      "cell_type": "code",
      "source": [
        "df_all.to_csv(\"수도권.csv\")"
      ],
      "metadata": {
        "id": "MdRWkQNi1lEH"
      },
      "execution_count": null,
      "outputs": []
    },
    {
      "cell_type": "code",
      "source": [
        "sudo = pd.read_csv(\"/content/수도권.csv\")\n",
        "gangwon = pd.read_csv(\"/content/강원도.csv\")\n",
        "gyeongsang = pd.read_csv(\"/content/경상권.csv\")\n",
        "chungcheong = pd.read_csv(\"/content/충청권_가뭄도.csv\")\n",
        "junla = pd.read_csv(\"/content/전라권.csv\")\n",
        "jeju = pd.read_csv(\"/content/제주도.csv\")"
      ],
      "metadata": {
        "id": "N5EuwTtz14am"
      },
      "execution_count": null,
      "outputs": []
    },
    {
      "cell_type": "code",
      "source": [
        "df_all = pd.concat([sudo, gangwon, gyeongsang, chungcheong, junla, jeju], axis=0, ignore_index=True)"
      ],
      "metadata": {
        "id": "yq4MPSCRsyr0"
      },
      "execution_count": null,
      "outputs": []
    },
    {
      "cell_type": "code",
      "source": [
        "df_all.head(10)"
      ],
      "metadata": {
        "id": "pJ3Jn-m7s08c"
      },
      "execution_count": null,
      "outputs": []
    },
    {
      "cell_type": "code",
      "source": [
        "columns = [\"시도\", \"시군구\",\"대응능력 계수(단위: 점수)\",\t\"노출도 계수(단위: 무차원)\",\n",
        "           \"민감도 계수(단위: 무차원)\",\t\"보조수원 계수(단위: 무차원)\",\t\"취약성(단위: 점수)\"]"
      ],
      "metadata": {
        "id": "O4GGHT_Bs2be"
      },
      "execution_count": null,
      "outputs": []
    },
    {
      "cell_type": "code",
      "source": [
        "df = df_all[columns]"
      ],
      "metadata": {
        "id": "PQcCsiNGtRAR"
      },
      "execution_count": null,
      "outputs": []
    },
    {
      "cell_type": "code",
      "source": [
        "3 > 2"
      ],
      "metadata": {
        "id": "bboyy5T83Lxy"
      },
      "execution_count": null,
      "outputs": []
    },
    {
      "cell_type": "code",
      "source": [
        "df.head(10)"
      ],
      "metadata": {
        "id": "O2NDMzoktU3i"
      },
      "execution_count": null,
      "outputs": []
    },
    {
      "cell_type": "code",
      "source": [
        "df.to_csv(\"total.csv\")"
      ],
      "metadata": {
        "id": "ziMTYQ4otZAs"
      },
      "execution_count": null,
      "outputs": []
    },
    {
      "cell_type": "code",
      "source": [
        "# 조건: 시군구가 '시구'로 끝나는 경우\n",
        "mask = junla['시군구'].str.endswith('진도군군')\n",
        "\n",
        "# 시군구에서 '구'를 떼고, 행정동 앞에 붙이기\n",
        "junla.loc[mask, '시군구'] = junla.loc[mask, '시군구'].str[:-1]  # '시구' -> '시'"
      ],
      "metadata": {
        "id": "UiGpYIVrC4Sb"
      },
      "execution_count": null,
      "outputs": []
    },
    {
      "cell_type": "code",
      "source": [
        "junla.loc[junla[\"시도\"] == \"전라남도\"]"
      ],
      "metadata": {
        "id": "Xle196LjtiKu"
      },
      "execution_count": null,
      "outputs": []
    },
    {
      "cell_type": "code",
      "source": [
        "junla = junla.groupby([\"시도\", \"시군구\"])[[\"대응능력 계수(단위: 점수)\", \"노출도 계수(단위: 무차원)\", \"민감도 계수(단위: 무차원)\",\"보조수원 계수(단위: 무차원)\", \"취약성(단위: 점수)\"]].mean().reset_index()"
      ],
      "metadata": {
        "id": "-wzA_yZQCyfR"
      },
      "execution_count": null,
      "outputs": []
    },
    {
      "cell_type": "code",
      "source": [
        "junla"
      ],
      "metadata": {
        "id": "RL-oALCwFZWP"
      },
      "execution_count": null,
      "outputs": []
    },
    {
      "cell_type": "code",
      "source": [
        "df_all.to_csv(\"total.csv\")"
      ],
      "metadata": {
        "id": "3lJ2buqHFahu"
      },
      "execution_count": null,
      "outputs": []
    },
    {
      "cell_type": "markdown",
      "source": [
        "# 취합"
      ],
      "metadata": {
        "id": "MsfQkLFILbex"
      }
    },
    {
      "cell_type": "code",
      "source": [
        "import pandas as pd"
      ],
      "metadata": {
        "id": "0LJFfp63FoZb"
      },
      "execution_count": null,
      "outputs": []
    },
    {
      "cell_type": "markdown",
      "source": [
        "# 가뭄 마이닝"
      ],
      "metadata": {
        "id": "ohVypf-lnewb"
      }
    },
    {
      "cell_type": "code",
      "source": [
        "gamum = pd.read_csv(\"/content/가뭄도_랭킹.csv\").iloc[:,1:]\n",
        "gamum.head(10)"
      ],
      "metadata": {
        "id": "MdUR-EbAngKA"
      },
      "execution_count": null,
      "outputs": []
    },
    {
      "cell_type": "code",
      "source": [
        "gamum[\"가뭄등수\"] = range(1, len(gamum) + 1)\n",
        "\n",
        "gamum"
      ],
      "metadata": {
        "id": "BEqBE7yRL2I-"
      },
      "execution_count": null,
      "outputs": []
    },
    {
      "cell_type": "code",
      "source": [
        "gamum = gamum[[\"시도\", \"시군구\", \"가뭄등수\"]]\n",
        "gamum"
      ],
      "metadata": {
        "id": "hUQ2De43n96A"
      },
      "execution_count": null,
      "outputs": []
    },
    {
      "cell_type": "markdown",
      "source": [
        "# 수리 마이닝"
      ],
      "metadata": {
        "id": "ixFoAUlIpNmM"
      }
    },
    {
      "cell_type": "code",
      "source": [
        "sangsu = pd.read_csv(\"/content/수리상수_랭킹.csv\")\n",
        "sangsu.head(10)"
      ],
      "metadata": {
        "id": "tQd7OOEmMymh"
      },
      "execution_count": null,
      "outputs": []
    },
    {
      "cell_type": "code",
      "source": [
        "sangsu = sangsu[sangsu[\"SIGUNGU_NM\"].notna()].reset_index(drop=True)\n",
        "sangsu.columns = [\"상수등수\", \"시도\", \"시군구\", \"확률\"]\n",
        "sangsu[\"상수등수\"] = range(1, len(sangsu) + 1)\n",
        "\n",
        "sangsu"
      ],
      "metadata": {
        "id": "La4eucbiNqEQ"
      },
      "execution_count": null,
      "outputs": []
    },
    {
      "cell_type": "code",
      "source": [
        "sangsu = sangsu[[\"시도\", \"시군구\", \"상수등수\"]]\n",
        "\n",
        "sangsu = sangsu[:148]\n",
        "sangsu"
      ],
      "metadata": {
        "id": "jpXHnW8ZOEgo"
      },
      "execution_count": null,
      "outputs": []
    },
    {
      "cell_type": "markdown",
      "source": [
        "# 두 개 먼저 merge"
      ],
      "metadata": {
        "id": "w6ub_e4h6-5d"
      }
    },
    {
      "cell_type": "code",
      "source": [
        "two = sangsu.merge(gamum, on=[\"시도\", \"시군구\"], how=\"left\")\n",
        "two"
      ],
      "metadata": {
        "id": "JiA-5RXzrPCF"
      },
      "execution_count": null,
      "outputs": []
    },
    {
      "cell_type": "code",
      "source": [
        "two.to_csv(\"temp.csv\")"
      ],
      "metadata": {
        "id": "QqMqZhBC7My9"
      },
      "execution_count": null,
      "outputs": []
    },
    {
      "cell_type": "markdown",
      "source": [
        "# 수질"
      ],
      "metadata": {
        "id": "W9_LxWf7CVVa"
      }
    },
    {
      "cell_type": "code",
      "source": [
        "sugil = pd.read_csv(\"/content/수질_랭킹.csv\")"
      ],
      "metadata": {
        "id": "TjqDpUbM74xn"
      },
      "execution_count": null,
      "outputs": []
    },
    {
      "cell_type": "code",
      "source": [
        "sugil"
      ],
      "metadata": {
        "id": "su_JKPpACcpJ"
      },
      "execution_count": null,
      "outputs": []
    },
    {
      "cell_type": "code",
      "source": [
        "sugil[\"수질등수\"] = range(1, len(sugil) + 1)\n",
        "\n",
        "sugil"
      ],
      "metadata": {
        "id": "j6N0HET1CeZy"
      },
      "execution_count": null,
      "outputs": []
    },
    {
      "cell_type": "code",
      "source": [
        "sugil = sugil[[\"시도\", \"시군구\", \"수질등수\"]]\n",
        "sugil"
      ],
      "metadata": {
        "id": "MOwhkxPbCp8R"
      },
      "execution_count": null,
      "outputs": []
    },
    {
      "cell_type": "code",
      "source": [
        "sugil[sugil[\"시도\"] == \"제주도\"]"
      ],
      "metadata": {
        "id": "Z-MTsvfhPhSO"
      },
      "execution_count": null,
      "outputs": []
    },
    {
      "cell_type": "code",
      "source": [
        "three = two.merge(sugil, on=[\"시도\", \"시군구\"], how=\"left\")\n",
        "three"
      ],
      "metadata": {
        "id": "a_zTnpI9Ct3w"
      },
      "execution_count": null,
      "outputs": []
    },
    {
      "cell_type": "code",
      "source": [
        "three.to_csv(\"랭킹.csv\")"
      ],
      "metadata": {
        "id": "LYHIDVuHC1Xg"
      },
      "execution_count": null,
      "outputs": []
    },
    {
      "cell_type": "code",
      "source": [
        "ranking = pd.read_csv(\"//content/랭킹.csv\", index_col=0)"
      ],
      "metadata": {
        "id": "ZSrgu7tSDFL9"
      },
      "execution_count": null,
      "outputs": []
    },
    {
      "cell_type": "code",
      "source": [
        "ranking"
      ],
      "metadata": {
        "id": "uoiClf6TPJ6B"
      },
      "execution_count": null,
      "outputs": []
    },
    {
      "cell_type": "code",
      "source": [
        "ranking = ranking[ranking[\"시군구\"].notna()].reset_index(drop=True)"
      ],
      "metadata": {
        "id": "frElkntFPK92"
      },
      "execution_count": null,
      "outputs": []
    },
    {
      "cell_type": "code",
      "source": [
        "ranking"
      ],
      "metadata": {
        "id": "7bwTgOvCP_IC"
      },
      "execution_count": null,
      "outputs": []
    },
    {
      "cell_type": "code",
      "source": [
        "ranking[\"최종등수\"] = (ranking[\"상수등수\"] + ranking[\"가뭄등수\"] + ranking[\"수질등수\"])/3\n",
        "ranking"
      ],
      "metadata": {
        "id": "IErwDiVEP_q7"
      },
      "execution_count": null,
      "outputs": []
    },
    {
      "cell_type": "code",
      "source": [
        "ranking = ranking.sort_values(by=\"최종등수\", ascending=True)\n",
        "ranking"
      ],
      "metadata": {
        "id": "ub47p0KGQbh5"
      },
      "execution_count": null,
      "outputs": []
    },
    {
      "cell_type": "code",
      "source": [
        "ranking[\"최종등수\"] = range(1, len(ranking) + 1)\n",
        "ranking"
      ],
      "metadata": {
        "id": "8GTIc4NZQv4j"
      },
      "execution_count": null,
      "outputs": []
    },
    {
      "cell_type": "code",
      "source": [
        "ranking.to_csv(\"최종랭킹.csv\")"
      ],
      "metadata": {
        "id": "ERADNRznQ8lR"
      },
      "execution_count": null,
      "outputs": []
    },
    {
      "cell_type": "code",
      "source": [],
      "metadata": {
        "id": "W1C511SrRCsq"
      },
      "execution_count": null,
      "outputs": []
    }
  ]
}